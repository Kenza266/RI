{
 "cells": [
  {
   "cell_type": "code",
   "execution_count": 1,
   "metadata": {},
   "outputs": [],
   "source": [
    "import csv\n",
    "import json\n",
    "import math\n",
    "import re\n",
    "import numpy as np\n",
    "\n",
    "import nltk\n",
    "import pandas as pd\n",
    "from Index import Index\n",
    "from matplotlib import pyplot as plt\n",
    "from nltk.stem import PorterStemmer, WordNetLemmatizer\n",
    "\n",
    "from rank_bm25 import BM25Okapi"
   ]
  },
  {
   "cell_type": "markdown",
   "metadata": {},
   "source": [
    "# Data Extraction"
   ]
  },
  {
   "cell_type": "code",
   "execution_count": 2,
   "metadata": {},
   "outputs": [],
   "source": [
    "def read(f):\n",
    "    content = ''\n",
    "    for line in f:\n",
    "        content += line\n",
    "    return content "
   ]
  },
  {
   "cell_type": "code",
   "execution_count": 3,
   "metadata": {},
   "outputs": [],
   "source": [
    "with open('cisi\\\\CISI.ALL', 'r') as f:\n",
    "    content = read(f)\n",
    "titles = [x.groups()[0] for x in re.finditer(r\"\\.T[^\\.\\w]*?\\n((.|\\n)*?)\\n\\.A\", content)]\n",
    "abstracts = [x.groups()[0] for x in re.finditer(r\"\\.W.*?\\n((.|\\n)*?)\\n\\.X\", content)]"
   ]
  },
  {
   "cell_type": "code",
   "execution_count": 4,
   "metadata": {},
   "outputs": [],
   "source": [
    "with open('cisi\\\\CISI.QRY', 'r') as f:\n",
    "    content = read(f) \n",
    "queries = [x.groups()[0] for x in re.finditer(r\"\\.W[^\\.\\w]*?\\n((.|\\n)*?)\\n\\.\", content)]"
   ]
  },
  {
   "cell_type": "code",
   "execution_count": 5,
   "metadata": {},
   "outputs": [],
   "source": [
    "raw_queries = {k: v for k, v in enumerate(queries)}\n",
    "with open('DS\\\\raw_queries.json', 'w', encoding='utf-8') as f:\n",
    "    json.dump(raw_queries, f, ensure_ascii=False, indent=4)"
   ]
  },
  {
   "cell_type": "code",
   "execution_count": 6,
   "metadata": {},
   "outputs": [],
   "source": [
    "docs = [t + ' ' + a for t, a in zip(titles, abstracts)]"
   ]
  },
  {
   "cell_type": "code",
   "execution_count": 11,
   "metadata": {},
   "outputs": [],
   "source": [
    "raw_docs = {i: d for i, d in enumerate(docs)}\n",
    "with open('DS\\\\raw_docs.json', 'w', encoding='utf-8') as f:\n",
    "    json.dump(raw_docs, f, ensure_ascii=False, indent=4)"
   ]
  },
  {
   "cell_type": "markdown",
   "metadata": {},
   "source": [
    "# Building Dataset"
   ]
  },
  {
   "cell_type": "code",
   "execution_count": 7,
   "metadata": {},
   "outputs": [
    {
     "name": "stdout",
     "output_type": "stream",
     "text": [
      "Tokenizing...\n"
     ]
    },
    {
     "name": "stderr",
     "output_type": "stream",
     "text": [
      "100%|██████████| 1460/1460 [00:08<00:00, 174.22it/s]\n"
     ]
    },
    {
     "name": "stdout",
     "output_type": "stream",
     "text": [
      "Removing empty words...\n"
     ]
    },
    {
     "name": "stderr",
     "output_type": "stream",
     "text": [
      "100%|██████████| 1460/1460 [00:00<00:00, 3090.79it/s]\n"
     ]
    },
    {
     "name": "stdout",
     "output_type": "stream",
     "text": [
      "Getting frequencies...\n"
     ]
    },
    {
     "name": "stderr",
     "output_type": "stream",
     "text": [
      "100%|██████████| 1460/1460 [00:00<00:00, 47886.17it/s]\n"
     ]
    },
    {
     "name": "stdout",
     "output_type": "stream",
     "text": [
      "Combining...\n"
     ]
    },
    {
     "name": "stderr",
     "output_type": "stream",
     "text": [
      "1460it [00:06, 224.35it/s]\n"
     ]
    },
    {
     "name": "stdout",
     "output_type": "stream",
     "text": [
      "Getting weights...\n"
     ]
    },
    {
     "name": "stderr",
     "output_type": "stream",
     "text": [
      "100%|██████████| 1460/1460 [00:01<00:00, 1048.92it/s]\n"
     ]
    },
    {
     "name": "stdout",
     "output_type": "stream",
     "text": [
      "Combining...\n"
     ]
    },
    {
     "name": "stderr",
     "output_type": "stream",
     "text": [
      "1460it [00:07, 198.47it/s]\n"
     ]
    }
   ],
   "source": [
    "index = Index(docs) \n",
    "index.process() "
   ]
  },
  {
   "cell_type": "markdown",
   "metadata": {},
   "source": [
    "## Index and Inverted"
   ]
  },
  {
   "cell_type": "code",
   "execution_count": 28,
   "metadata": {},
   "outputs": [],
   "source": [
    "with open('DS\\\\index.json', 'w', encoding='utf-8') as f:\n",
    "    json.dump(index.index, f, ensure_ascii=False, indent=4)"
   ]
  },
  {
   "cell_type": "code",
   "execution_count": 29,
   "metadata": {},
   "outputs": [],
   "source": [
    "with open('DS\\\\inverted.json', 'w', encoding='utf-8') as f:\n",
    "    json.dump(index.inverted, f, ensure_ascii=False, indent=4)"
   ]
  },
  {
   "cell_type": "markdown",
   "metadata": {},
   "source": [
    "## CSV File"
   ]
  },
  {
   "cell_type": "code",
   "execution_count": 30,
   "metadata": {},
   "outputs": [],
   "source": [
    "data = []\n",
    "for doc in list(index.index.keys()):\n",
    "    for token in index.index[doc]:\n",
    "        data.append([doc, token, index.index[doc][token][0], index.index[doc][token][1]]) "
   ]
  },
  {
   "cell_type": "code",
   "execution_count": 31,
   "metadata": {},
   "outputs": [],
   "source": [
    "with open(\"DS\\\\dataset.csv\", \"wt\", newline='') as fp:\n",
    "    writer = csv.writer(fp, delimiter=\",\")\n",
    "    writer.writerow(['Document', 'Token', 'Frequency', 'Weight']) \n",
    "    writer.writerows(data) "
   ]
  },
  {
   "cell_type": "markdown",
   "metadata": {},
   "source": [
    "## Queries"
   ]
  },
  {
   "cell_type": "code",
   "execution_count": 32,
   "metadata": {},
   "outputs": [],
   "source": [
    "def filter(token):\n",
    "    t = PorterStemmer().stem(token)\n",
    "    return WordNetLemmatizer().lemmatize(t)"
   ]
  },
  {
   "cell_type": "code",
   "execution_count": 33,
   "metadata": {},
   "outputs": [],
   "source": [
    "def tokenize(docs, regex='(?:[A-Za-z]\\.)+|\\d+(?:\\.\\d+)?%?|\\w+(?:\\-\\w+)*'):\n",
    "    regex = nltk.RegexpTokenizer(regex) \n",
    "    tokens_lists = [regex.tokenize(txt) for txt in docs]\n",
    "    tokens_lists = [[filter(t) for t in tokens_list] for tokens_list in tokens_lists] \n",
    "    empty_words = nltk.corpus.stopwords.words('english')\n",
    "    tokens_lists = [[token.lower() for token in tokens if token not in empty_words] for tokens in tokens_lists]\n",
    "    return tokens_lists"
   ]
  },
  {
   "cell_type": "code",
   "execution_count": 34,
   "metadata": {},
   "outputs": [],
   "source": [
    "queries = tokenize(queries)\n",
    "queries = [list(np.unique(q)) for q in queries]"
   ]
  },
  {
   "cell_type": "code",
   "execution_count": 35,
   "metadata": {},
   "outputs": [],
   "source": [
    "queries = {i: q for i, q in enumerate(queries)} "
   ]
  },
  {
   "cell_type": "code",
   "execution_count": 36,
   "metadata": {},
   "outputs": [],
   "source": [
    "with open('DS\\\\queries.json', 'w', encoding='utf-8') as f:\n",
    "    json.dump(queries, f, ensure_ascii=False, indent=4) "
   ]
  },
  {
   "cell_type": "markdown",
   "metadata": {},
   "source": [
    "## Ground truth"
   ]
  },
  {
   "cell_type": "code",
   "execution_count": 37,
   "metadata": {},
   "outputs": [],
   "source": [
    "f = open('cisi\\\\CISI.REL', 'r')\n",
    "truth = [x.split()[:2] for x in f.readlines()]\n",
    "with open(\"DS\\\\ground_truth.csv\", \"wt\", newline='') as fp:\n",
    "    writer = csv.writer(fp, delimiter=\",\")\n",
    "    writer.writerow(['Query', 'Relevent document']) \n",
    "    writer.writerows(truth)"
   ]
  }
 ],
 "metadata": {
  "kernelspec": {
   "display_name": "Python 3",
   "language": "python",
   "name": "python3"
  },
  "language_info": {
   "codemirror_mode": {
    "name": "ipython",
    "version": 3
   },
   "file_extension": ".py",
   "mimetype": "text/x-python",
   "name": "python",
   "nbconvert_exporter": "python",
   "pygments_lexer": "ipython3",
   "version": "3.11.1 (tags/v3.11.1:a7a450f, Dec  6 2022, 19:58:39) [MSC v.1934 64 bit (AMD64)]"
  },
  "orig_nbformat": 4,
  "vscode": {
   "interpreter": {
    "hash": "b91f41160b83ffc59c7e17fa6fd02d637d5dcf1d5e59aa2db87d82178661b954"
   }
  }
 },
 "nbformat": 4,
 "nbformat_minor": 2
}
