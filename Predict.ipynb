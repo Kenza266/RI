{
 "cells": [
  {
   "cell_type": "code",
   "execution_count": 101,
   "metadata": {},
   "outputs": [],
   "source": [
    "import re\n",
    "import csv\n",
    "import math\n",
    "import nltk\n",
    "import json\n",
    "import numpy as np\n",
    "import pandas as pd\n",
    "from Index import Index\n",
    "from matplotlib import pyplot as plt"
   ]
  },
  {
   "attachments": {},
   "cell_type": "markdown",
   "metadata": {},
   "source": [
    "# Predictions"
   ]
  },
  {
   "cell_type": "code",
   "execution_count": 102,
   "metadata": {},
   "outputs": [],
   "source": [
    "index = Index(('DS\\\\index.json', 'DS\\\\inverted.json', 'DS\\\\queries.json', 'DS\\\\ground_truth.csv', 'DS\\\\raw_queries.json', 'DS\\\\raw_docs.json'), preprocessed=True)"
   ]
  },
  {
   "attachments": {},
   "cell_type": "markdown",
   "metadata": {},
   "source": [
    "## Vector"
   ]
  },
  {
   "cell_type": "code",
   "execution_count": 103,
   "metadata": {},
   "outputs": [
    {
     "name": "stderr",
     "output_type": "stream",
     "text": [
      "100%|██████████| 76/76 [01:06<00:00,  1.14it/s]\n"
     ]
    },
    {
     "data": {
      "text/plain": [
       "(0.028037130497476574, 0.9994801089185152)"
      ]
     },
     "execution_count": 103,
     "metadata": {},
     "output_type": "execute_result"
    }
   ],
   "source": [
    "predicted_scalar = index.vector_search(max_docs=1460, metric='scalar') \n",
    "index.PR([[i[0] for i in j] for j in list(predicted_scalar.values())], index.relevent_docs)[2:] "
   ]
  },
  {
   "cell_type": "code",
   "execution_count": 104,
   "metadata": {},
   "outputs": [],
   "source": [
    "with open('Predictions\\\\pred_scalar.json', 'w', encoding='utf-8') as f: \n",
    "    json.dump({str(k): v for k, v in predicted_scalar.items()}, f, ensure_ascii=False, indent=4) "
   ]
  },
  {
   "cell_type": "code",
   "execution_count": 105,
   "metadata": {},
   "outputs": [
    {
     "name": "stderr",
     "output_type": "stream",
     "text": [
      "100%|██████████| 76/76 [02:03<00:00,  1.63s/it]\n"
     ]
    },
    {
     "data": {
      "text/plain": [
       "(0.028037130497476574, 0.9994801089185152)"
      ]
     },
     "execution_count": 105,
     "metadata": {},
     "output_type": "execute_result"
    }
   ],
   "source": [
    "predicted_cos = index.vector_search(max_docs=1460, metric='cosine')\n",
    "index.PR([[i[0] for i in j] for j in list(predicted_cos.values())], index.relevent_docs)[2:] "
   ]
  },
  {
   "cell_type": "code",
   "execution_count": 106,
   "metadata": {},
   "outputs": [],
   "source": [
    "with open('Predictions\\\\pred_cos.json', 'w', encoding='utf-8') as f: \n",
    "    json.dump({str(k): v for k, v in predicted_cos.items()}, f, ensure_ascii=False, indent=4) "
   ]
  },
  {
   "cell_type": "code",
   "execution_count": 107,
   "metadata": {},
   "outputs": [
    {
     "name": "stderr",
     "output_type": "stream",
     "text": [
      "100%|██████████| 76/76 [03:05<00:00,  2.45s/it]\n"
     ]
    },
    {
     "data": {
      "text/plain": [
       "(0.028037130497476574, 0.9994801089185152)"
      ]
     },
     "execution_count": 107,
     "metadata": {},
     "output_type": "execute_result"
    }
   ],
   "source": [
    "predicted_jacc = index.vector_search(max_docs=1460, metric='jaccard') \n",
    "index.PR([[i[0] for i in j] for j in list(predicted_jacc.values())], index.relevent_docs)[2:] "
   ]
  },
  {
   "cell_type": "code",
   "execution_count": 108,
   "metadata": {},
   "outputs": [],
   "source": [
    "with open('Predictions\\\\pred_jacc.json', 'w', encoding='utf-8') as f:\n",
    "    json.dump({str(k): v for k, v in predicted_jacc.items()}, f, ensure_ascii=False, indent=4) "
   ]
  },
  {
   "attachments": {},
   "cell_type": "markdown",
   "metadata": {},
   "source": [
    "## BM25"
   ]
  },
  {
   "cell_type": "code",
   "execution_count": 109,
   "metadata": {},
   "outputs": [
    {
     "name": "stderr",
     "output_type": "stream",
     "text": [
      "100%|██████████| 76/76 [00:09<00:00,  7.90it/s]\n"
     ]
    },
    {
     "data": {
      "text/plain": [
       "(0.052105263157894745, 0.03607191392734016)"
      ]
     },
     "execution_count": 109,
     "metadata": {},
     "output_type": "execute_result"
    }
   ],
   "source": [
    "predicted_bm25 = index.BM25() \n",
    "index.PR([[i[0] for i in j[:25]] for j in predicted_bm25], index.relevent_docs)[2:] "
   ]
  },
  {
   "cell_type": "code",
   "execution_count": 110,
   "metadata": {},
   "outputs": [],
   "source": [
    "predicted_bm25 = [[[str(i), l] for i, l in j] for j in predicted_bm25]\n",
    "predicted_bm25 = {str(i): j for i, j in enumerate(predicted_bm25)}"
   ]
  },
  {
   "cell_type": "code",
   "execution_count": 111,
   "metadata": {},
   "outputs": [],
   "source": [
    "with open('Predictions\\\\pred_bm25.json', 'w', encoding='utf-8') as f:\n",
    "    json.dump(predicted_bm25, f, ensure_ascii=False, indent=4)"
   ]
  },
  {
   "attachments": {},
   "cell_type": "markdown",
   "metadata": {},
   "source": [
    "## Bool"
   ]
  },
  {
   "cell_type": "code",
   "execution_count": 112,
   "metadata": {},
   "outputs": [],
   "source": [
    "docs = index.parse_boolean_query('structures and (structural or formulas) and (not drawing and compounds) or chemical') "
   ]
  },
  {
   "attachments": {},
   "cell_type": "markdown",
   "metadata": {},
   "source": [
    "# Evaluation"
   ]
  },
  {
   "attachments": {},
   "cell_type": "markdown",
   "metadata": {},
   "source": [
    "## P5 and P10"
   ]
  },
  {
   "cell_type": "code",
   "execution_count": 113,
   "metadata": {},
   "outputs": [],
   "source": [
    "preds = [predicted_scalar, predicted_cos, predicted_jacc, predicted_bm25]"
   ]
  },
  {
   "cell_type": "code",
   "execution_count": 114,
   "metadata": {},
   "outputs": [],
   "source": [
    "def precision(i, pred, relevent):\n",
    "    pred = [[i[0] for i in j[:i]] for j in list(pred.values())]\n",
    "    return index.PR(pred, index.relevent_docs)[2]"
   ]
  },
  {
   "cell_type": "code",
   "execution_count": 115,
   "metadata": {},
   "outputs": [],
   "source": [
    "def recall(i, pred, relevent):\n",
    "    pred = [[i[0] for i in j[:i]] for j in list(pred.values())]\n",
    "    return index.PR(pred, index.relevent_docs)[3]"
   ]
  },
  {
   "cell_type": "code",
   "execution_count": 116,
   "metadata": {},
   "outputs": [
    {
     "name": "stdout",
     "output_type": "stream",
     "text": [
      "0.05000000000000001\n",
      "0.06315789473684211\n",
      "0.08157894736842107\n",
      "0.04736842105263159\n"
     ]
    }
   ],
   "source": [
    "for pred in preds:\n",
    "    print(precision(5, pred, index.relevent_docs)) "
   ]
  },
  {
   "cell_type": "code",
   "execution_count": 117,
   "metadata": {},
   "outputs": [
    {
     "name": "stdout",
     "output_type": "stream",
     "text": [
      "0.05394736842105264\n",
      "0.06052631578947368\n",
      "0.06842105263157895\n",
      "0.05526315789473685\n"
     ]
    }
   ],
   "source": [
    "for pred in preds:\n",
    "    print(precision(10, pred, index.relevent_docs))"
   ]
  },
  {
   "attachments": {},
   "cell_type": "markdown",
   "metadata": {},
   "source": [
    "## ROC"
   ]
  },
  {
   "cell_type": "code",
   "execution_count": 118,
   "metadata": {},
   "outputs": [],
   "source": [
    "def frange(x, y, jump):\n",
    "    while x < y:\n",
    "        yield x\n",
    "        x += jump\n",
    "\n",
    "def ROC(pred, relevent, step=10):\n",
    "    PR = []\n",
    "    for thresh in range(1, step):\n",
    "        PR.append(index.PR([[i[0] for i in j[:thresh]] for j in list(pred.values())], relevent)[2:])\n",
    "    PR = np.array(PR)\n",
    "    roc = []\n",
    "    recalls = list(frange(0, 1.01, 1/(10*len(PR))))\n",
    "    for r, pr in zip(recalls, PR):\n",
    "        filtered = [i[0] for i in PR if i[1] >= r]\n",
    "        p = max(filtered) if filtered else 0\n",
    "        roc.append((p, r)) \n",
    "    return roc"
   ]
  },
  {
   "cell_type": "code",
   "execution_count": 119,
   "metadata": {},
   "outputs": [
    {
     "data": {
      "image/png": "[encoded data removed]",
      "text/plain": [
       "<Figure size 640x480 with 1 Axes>"
      ]
     },
     "metadata": {},
     "output_type": "display_data"
    }
   ],
   "source": [
    "rocs = [] \n",
    "models = ['Scalar', 'Cosine', 'Jaccard', 'BM25']\n",
    "for pred in preds:\n",
    "    rocs.append(np.array(ROC(pred, index.relevent_docs, 400))) \n",
    "\n",
    "for roc, model in zip(rocs, models):\n",
    "    plt.plot(roc[:, 1], roc[:, 0], label=model)\n",
    "plt.legend()\n",
    "plt.show() "
   ]
  },
  {
   "attachments": {},
   "cell_type": "markdown",
   "metadata": {},
   "source": [
    "## Summary"
   ]
  },
  {
   "cell_type": "code",
   "execution_count": 120,
   "metadata": {},
   "outputs": [],
   "source": [
    "eval = []\n",
    "names = ['Scalar', 'Cosine', 'Jaccard', 'BM25']\n",
    "for pred, name in zip(preds, names):\n",
    "    p5 = round(precision(5, pred, index.relevent_docs), 3)\n",
    "    p10 = round(precision(10, pred, index.relevent_docs), 3)\n",
    "    p25 = round(precision(25, pred, index.relevent_docs), 3)\n",
    "    r5 = round(recall(5, pred, index.relevent_docs), 3)\n",
    "    r10 = round(recall(10, pred, index.relevent_docs), 3)\n",
    "    r25 = round(recall(25, pred, index.relevent_docs), 3)\n",
    "    eval.append([name, p5, r5, round((2*p5*r5)/(p5+r5), 3), p10, r10, round((2*p10*r10)/(p10+r10), 3), p25, r25, round((2*p25*r25)/(p25+r25), 3)])\n",
    "\n",
    "eval = pd.DataFrame(eval)\n",
    "eval.columns = ['Model', 'P5', 'R5', 'F5', 'P10', 'R10', 'F10', 'P25', 'R25', 'F25']\n",
    "eval.to_csv('Eval//Eval.csv') "
   ]
  },
  {
   "cell_type": "code",
   "execution_count": 121,
   "metadata": {},
   "outputs": [
    {
     "data": {
      "text/html": [
       "<div>\n",
       "<style scoped>\n",
       "    .dataframe tbody tr th:only-of-type {\n",
       "        vertical-align: middle;\n",
       "    }\n",
       "\n",
       "    .dataframe tbody tr th {\n",
       "        vertical-align: top;\n",
       "    }\n",
       "\n",
       "    .dataframe thead th {\n",
       "        text-align: right;\n",
       "    }\n",
       "</style>\n",
       "<table border=\"1\" class=\"dataframe\">\n",
       "  <thead>\n",
       "    <tr style=\"text-align: right;\">\n",
       "      <th></th>\n",
       "      <th>Model</th>\n",
       "      <th>P5</th>\n",
       "      <th>R5</th>\n",
       "      <th>F5</th>\n",
       "      <th>P10</th>\n",
       "      <th>R10</th>\n",
       "      <th>F10</th>\n",
       "      <th>P25</th>\n",
       "      <th>R25</th>\n",
       "      <th>F25</th>\n",
       "    </tr>\n",
       "  </thead>\n",
       "  <tbody>\n",
       "    <tr>\n",
       "      <th>0</th>\n",
       "      <td>Scalar</td>\n",
       "      <td>0.050</td>\n",
       "      <td>0.007</td>\n",
       "      <td>0.012</td>\n",
       "      <td>0.054</td>\n",
       "      <td>0.016</td>\n",
       "      <td>0.025</td>\n",
       "      <td>0.053</td>\n",
       "      <td>0.037</td>\n",
       "      <td>0.044</td>\n",
       "    </tr>\n",
       "    <tr>\n",
       "      <th>1</th>\n",
       "      <td>Cosine</td>\n",
       "      <td>0.063</td>\n",
       "      <td>0.012</td>\n",
       "      <td>0.020</td>\n",
       "      <td>0.061</td>\n",
       "      <td>0.024</td>\n",
       "      <td>0.034</td>\n",
       "      <td>0.064</td>\n",
       "      <td>0.047</td>\n",
       "      <td>0.054</td>\n",
       "    </tr>\n",
       "    <tr>\n",
       "      <th>2</th>\n",
       "      <td>Jaccard</td>\n",
       "      <td>0.082</td>\n",
       "      <td>0.015</td>\n",
       "      <td>0.025</td>\n",
       "      <td>0.068</td>\n",
       "      <td>0.023</td>\n",
       "      <td>0.034</td>\n",
       "      <td>0.063</td>\n",
       "      <td>0.043</td>\n",
       "      <td>0.051</td>\n",
       "    </tr>\n",
       "    <tr>\n",
       "      <th>3</th>\n",
       "      <td>BM25</td>\n",
       "      <td>0.047</td>\n",
       "      <td>0.005</td>\n",
       "      <td>0.009</td>\n",
       "      <td>0.055</td>\n",
       "      <td>0.016</td>\n",
       "      <td>0.025</td>\n",
       "      <td>0.052</td>\n",
       "      <td>0.036</td>\n",
       "      <td>0.043</td>\n",
       "    </tr>\n",
       "  </tbody>\n",
       "</table>\n",
       "</div>"
      ],
      "text/plain": [
       "     Model     P5     R5     F5    P10    R10    F10    P25    R25    F25\n",
       "0   Scalar  0.050  0.007  0.012  0.054  0.016  0.025  0.053  0.037  0.044\n",
       "1   Cosine  0.063  0.012  0.020  0.061  0.024  0.034  0.064  0.047  0.054\n",
       "2  Jaccard  0.082  0.015  0.025  0.068  0.023  0.034  0.063  0.043  0.051\n",
       "3     BM25  0.047  0.005  0.009  0.055  0.016  0.025  0.052  0.036  0.043"
      ]
     },
     "execution_count": 121,
     "metadata": {},
     "output_type": "execute_result"
    }
   ],
   "source": [
    "eval = pd.read_csv('Eval//Eval.csv')\n",
    "eval.drop([eval.columns[0]], axis=1)"
   ]
  },
  {
   "cell_type": "code",
   "execution_count": 122,
   "metadata": {},
   "outputs": [],
   "source": [
    "for name, roc in zip(names, rocs):\n",
    "    np.save('Eval//'+name, roc)"
   ]
  }
 ],
 "metadata": {
  "kernelspec": {
   "display_name": "Python 3",
   "language": "python",
   "name": "python3"
  },
  "language_info": {
   "codemirror_mode": {
    "name": "ipython",
    "version": 3
   },
   "file_extension": ".py",
   "mimetype": "text/x-python",
   "name": "python",
   "nbconvert_exporter": "python",
   "pygments_lexer": "ipython3",
   "version": "3.11.1"
  },
  "orig_nbformat": 4,
  "vscode": {
   "interpreter": {
    "hash": "b91f41160b83ffc59c7e17fa6fd02d637d5dcf1d5e59aa2db87d82178661b954"
   }
  }
 },
 "nbformat": 4,
 "nbformat_minor": 2
}
