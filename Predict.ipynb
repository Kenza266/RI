{
 "cells": [
  {
   "cell_type": "code",
   "execution_count": 32,
   "metadata": {},
   "outputs": [],
   "source": [
    "import re\n",
    "import csv\n",
    "import math\n",
    "import nltk\n",
    "import json\n",
    "from tqdm import tqdm\n",
    "import numpy as np\n",
    "import pandas as pd\n",
    "from Index import Index\n",
    "from matplotlib import pyplot as plt "
   ]
  },
  {
   "cell_type": "code",
   "execution_count": 2,
   "metadata": {},
   "outputs": [],
   "source": [
    "index = Index(('DS\\\\index.json', 'DS\\\\inverted.json', 'DS\\\\queries.json', 'DS\\\\ground_truth.csv', 'DS\\\\raw_queries.json', 'DS\\\\raw_docs.json'), preprocessed=True)"
   ]
  },
  {
   "attachments": {},
   "cell_type": "markdown",
   "metadata": {},
   "source": [
    "# Predictions"
   ]
  },
  {
   "attachments": {},
   "cell_type": "markdown",
   "metadata": {},
   "source": [
    "## Vector"
   ]
  },
  {
   "cell_type": "code",
   "execution_count": 3,
   "metadata": {},
   "outputs": [
    {
     "name": "stderr",
     "output_type": "stream",
     "text": [
      "100%|██████████| 76/76 [00:51<00:00,  1.48it/s]\n"
     ]
    },
    {
     "data": {
      "text/plain": [
       "(0.028037130497476574, 0.9994801089185152)"
      ]
     },
     "execution_count": 3,
     "metadata": {},
     "output_type": "execute_result"
    }
   ],
   "source": [
    "predicted_scalar = index.vector_search(max_docs=1460, metric='scalar') \n",
    "index.PR([[i[0] for i in j] for j in list(predicted_scalar.values())], index.relevent_docs)[2:] "
   ]
  },
  {
   "cell_type": "code",
   "execution_count": 4,
   "metadata": {},
   "outputs": [],
   "source": [
    "with open('Predictions\\\\pred_scalar.json', 'w', encoding='utf-8') as f: \n",
    "    json.dump({str(k): v for k, v in predicted_scalar.items()}, f, ensure_ascii=False, indent=4) "
   ]
  },
  {
   "cell_type": "code",
   "execution_count": 5,
   "metadata": {},
   "outputs": [
    {
     "name": "stderr",
     "output_type": "stream",
     "text": [
      "100%|██████████| 76/76 [00:58<00:00,  1.29it/s]\n"
     ]
    },
    {
     "data": {
      "text/plain": [
       "(0.028037130497476574, 0.9994801089185152)"
      ]
     },
     "execution_count": 5,
     "metadata": {},
     "output_type": "execute_result"
    }
   ],
   "source": [
    "predicted_cos = index.vector_search(max_docs=1460, metric='cosine')\n",
    "index.PR([[i[0] for i in j] for j in list(predicted_cos.values())], index.relevent_docs)[2:] "
   ]
  },
  {
   "cell_type": "code",
   "execution_count": 6,
   "metadata": {},
   "outputs": [],
   "source": [
    "with open('Predictions\\\\pred_cos.json', 'w', encoding='utf-8') as f: \n",
    "    json.dump({str(k): v for k, v in predicted_cos.items()}, f, ensure_ascii=False, indent=4) "
   ]
  },
  {
   "cell_type": "code",
   "execution_count": 7,
   "metadata": {},
   "outputs": [
    {
     "name": "stderr",
     "output_type": "stream",
     "text": [
      "100%|██████████| 76/76 [02:02<00:00,  1.62s/it]\n"
     ]
    },
    {
     "data": {
      "text/plain": [
       "(0.028037130497476574, 0.9994801089185152)"
      ]
     },
     "execution_count": 7,
     "metadata": {},
     "output_type": "execute_result"
    }
   ],
   "source": [
    "predicted_jacc = index.vector_search(max_docs=1460, metric='jaccard') \n",
    "index.PR([[i[0] for i in j] for j in list(predicted_jacc.values())], index.relevent_docs)[2:] "
   ]
  },
  {
   "cell_type": "code",
   "execution_count": 8,
   "metadata": {},
   "outputs": [],
   "source": [
    "with open('Predictions\\\\pred_jacc.json', 'w', encoding='utf-8') as f:\n",
    "    json.dump({str(k): v for k, v in predicted_jacc.items()}, f, ensure_ascii=False, indent=4) "
   ]
  },
  {
   "attachments": {},
   "cell_type": "markdown",
   "metadata": {},
   "source": [
    "## BM25"
   ]
  },
  {
   "cell_type": "code",
   "execution_count": 9,
   "metadata": {},
   "outputs": [
    {
     "name": "stderr",
     "output_type": "stream",
     "text": [
      "100%|██████████| 76/76 [00:09<00:00,  8.40it/s]\n"
     ]
    },
    {
     "data": {
      "text/plain": [
       "(0.052105263157894745, 0.03607191392734016)"
      ]
     },
     "execution_count": 9,
     "metadata": {},
     "output_type": "execute_result"
    }
   ],
   "source": [
    "predicted_bm25 = index.BM25() \n",
    "index.PR([[i[0] for i in j[:25]] for j in predicted_bm25], index.relevent_docs)[2:] "
   ]
  },
  {
   "cell_type": "code",
   "execution_count": 10,
   "metadata": {},
   "outputs": [],
   "source": [
    "predicted_bm25 = [[[str(i), l] for i, l in j] for j in predicted_bm25]\n",
    "predicted_bm25 = {str(i): j for i, j in enumerate(predicted_bm25)}"
   ]
  },
  {
   "cell_type": "code",
   "execution_count": 11,
   "metadata": {},
   "outputs": [],
   "source": [
    "with open('Predictions\\\\pred_bm25.json', 'w', encoding='utf-8') as f:\n",
    "    json.dump(predicted_bm25, f, ensure_ascii=False, indent=4)"
   ]
  },
  {
   "attachments": {},
   "cell_type": "markdown",
   "metadata": {},
   "source": [
    "## Bool"
   ]
  },
  {
   "cell_type": "code",
   "execution_count": 12,
   "metadata": {},
   "outputs": [],
   "source": [
    "docs = index.parse_boolean_query('structures and (structural or formulas) and (not drawing and compounds) or chemical') "
   ]
  },
  {
   "attachments": {},
   "cell_type": "markdown",
   "metadata": {},
   "source": [
    "# Evaluation"
   ]
  },
  {
   "cell_type": "code",
   "execution_count": 13,
   "metadata": {},
   "outputs": [],
   "source": [
    "def read_json(file):\n",
    "    with open(file) as f:\n",
    "        return json.load(f)"
   ]
  },
  {
   "cell_type": "code",
   "execution_count": 14,
   "metadata": {},
   "outputs": [],
   "source": [
    "predicted_scalar = read_json('Predictions\\\\pred_scalar.json')\n",
    "predicted_cos = read_json('Predictions\\\\pred_cos.json')\n",
    "predicted_jacc = read_json('Predictions\\\\pred_jacc.json')\n",
    "predicted_bm25 = read_json('Predictions\\\\pred_bm25.json')"
   ]
  },
  {
   "cell_type": "code",
   "execution_count": 15,
   "metadata": {},
   "outputs": [],
   "source": [
    "preds = [predicted_scalar, predicted_cos, predicted_jacc, predicted_bm25]"
   ]
  },
  {
   "cell_type": "code",
   "execution_count": 16,
   "metadata": {},
   "outputs": [],
   "source": [
    "def precision(i, pred, relevent):\n",
    "    pred = [[i[0] for i in j[:i]] for j in list(pred.values())]\n",
    "    return index.PR(pred, index.relevent_docs)[2]"
   ]
  },
  {
   "cell_type": "code",
   "execution_count": 17,
   "metadata": {},
   "outputs": [],
   "source": [
    "def recall(i, pred, relevent):\n",
    "    pred = [[i[0] for i in j[:i]] for j in list(pred.values())]\n",
    "    return index.PR(pred, index.relevent_docs)[3]"
   ]
  },
  {
   "cell_type": "code",
   "execution_count": 18,
   "metadata": {},
   "outputs": [],
   "source": [
    "def mrr(i, pred, relevent):\n",
    "    pred = [[i[0] for i in j[:i]] for j in list(pred.values())]\n",
    "    scores = []\n",
    "    for p, r in zip(pred, relevent):\n",
    "        for i, j in enumerate(p):\n",
    "            j = int(j)\n",
    "            if j in r:\n",
    "                scores.append(1/(i+1))\n",
    "                break\n",
    "    return np.sum(scores) / len(pred)"
   ]
  },
  {
   "attachments": {},
   "cell_type": "markdown",
   "metadata": {},
   "source": [
    "## P5 and P10"
   ]
  },
  {
   "cell_type": "code",
   "execution_count": 19,
   "metadata": {},
   "outputs": [],
   "source": [
    "rel = [[i-1 for i in j] for j in index.relevent_docs]"
   ]
  },
  {
   "cell_type": "code",
   "execution_count": 20,
   "metadata": {},
   "outputs": [
    {
     "name": "stdout",
     "output_type": "stream",
     "text": [
      "0.05000000000000001\n",
      "0.06315789473684211\n",
      "0.08157894736842107\n",
      "0.04736842105263159\n"
     ]
    }
   ],
   "source": [
    "for pred in preds:\n",
    "    print(precision(5, pred, index.relevent_docs)) "
   ]
  },
  {
   "cell_type": "code",
   "execution_count": 21,
   "metadata": {},
   "outputs": [
    {
     "name": "stdout",
     "output_type": "stream",
     "text": [
      "0.05394736842105264\n",
      "0.06052631578947368\n",
      "0.06842105263157895\n",
      "0.05526315789473685\n"
     ]
    }
   ],
   "source": [
    "for pred in preds:\n",
    "    print(precision(10, pred, index.relevent_docs))"
   ]
  },
  {
   "attachments": {},
   "cell_type": "markdown",
   "metadata": {},
   "source": [
    "## MRR5 and MRR10"
   ]
  },
  {
   "cell_type": "code",
   "execution_count": 22,
   "metadata": {},
   "outputs": [
    {
     "name": "stdout",
     "output_type": "stream",
     "text": [
      "0.08048245614035088\n",
      "0.12807017543859647\n",
      "0.14758771929824563\n",
      "0.12061403508771931\n"
     ]
    }
   ],
   "source": [
    "for pred in preds:\n",
    "    print(mrr(5, pred, index.relevent_docs))"
   ]
  },
  {
   "cell_type": "code",
   "execution_count": 23,
   "metadata": {},
   "outputs": [
    {
     "name": "stdout",
     "output_type": "stream",
     "text": [
      "0.10149331662489558\n",
      "0.1515873015873016\n",
      "0.17022765246449456\n",
      "0.14251253132832079\n"
     ]
    }
   ],
   "source": [
    "for pred in preds:\n",
    "    print(mrr(10, pred, index.relevent_docs))"
   ]
  },
  {
   "attachments": {},
   "cell_type": "markdown",
   "metadata": {},
   "source": [
    "## PR"
   ]
  },
  {
   "cell_type": "code",
   "execution_count": 24,
   "metadata": {},
   "outputs": [],
   "source": [
    "def frange(x, y, jump):\n",
    "    while x < y:\n",
    "        yield x\n",
    "        x += jump\n",
    "\n",
    "def PR_curve(pred, relevent, step=10):\n",
    "    PR = []\n",
    "    for thresh in range(1, step):\n",
    "        PR.append(index.PR([[i[0] for i in j[:thresh]] for j in list(pred.values())], relevent)[2:])\n",
    "    PR = np.array(PR)\n",
    "    curve = []\n",
    "    recalls = list(frange(0, 1.01, 1/(10*len(PR))))\n",
    "    for r, pr in zip(recalls, PR):\n",
    "        filtered = [i[0] for i in PR if i[1] >= r]\n",
    "        p = max(filtered) if filtered else 0\n",
    "        curve.append((p, r)) \n",
    "    return curve"
   ]
  },
  {
   "cell_type": "code",
   "execution_count": 25,
   "metadata": {},
   "outputs": [
    {
     "data": {
      "image/png": "[encoded data removed]",
      "text/plain": [
       "<Figure size 640x480 with 1 Axes>"
      ]
     },
     "metadata": {},
     "output_type": "display_data"
    }
   ],
   "source": [
    "rocs = [] \n",
    "models = ['Scalar', 'Cosine', 'Jaccard', 'BM25']\n",
    "for pred in preds:\n",
    "    rocs.append(np.array(PR_curve(pred, index.relevent_docs, 500))) \n",
    "\n",
    "for roc, model in zip(rocs, models):\n",
    "    plt.plot(roc[:, 1], roc[:, 0], label=model) \n",
    "plt.legend()\n",
    "plt.show() "
   ]
  },
  {
   "cell_type": "code",
   "execution_count": 26,
   "metadata": {},
   "outputs": [],
   "source": [
    "for name, roc in zip(models, rocs):\n",
    "    np.save('Eval//PR_'+name, roc)"
   ]
  },
  {
   "attachments": {},
   "cell_type": "markdown",
   "metadata": {},
   "source": [
    "## ROC"
   ]
  },
  {
   "cell_type": "code",
   "execution_count": 33,
   "metadata": {},
   "outputs": [],
   "source": [
    "def roc(pred, relevent, thresh=10):\n",
    "    fpr, tpr = [], []\n",
    "    for i in tqdm(range(thresh)):\n",
    "        f, t = [], []\n",
    "        for p, r in zip(pred, relevent):\n",
    "            p = p[:i]\n",
    "            TP = len(set(p) & set(r))\n",
    "            FP = len([i for i in p if i not in r])\n",
    "            f.append(FP/(1460-len(r)))\n",
    "            t.append(TP/len(r))\n",
    "        fpr.append(np.mean(f))\n",
    "        tpr.append(np.mean(t))\n",
    "    return fpr, tpr"
   ]
  },
  {
   "cell_type": "code",
   "execution_count": 34,
   "metadata": {},
   "outputs": [
    {
     "name": "stderr",
     "output_type": "stream",
     "text": [
      "100%|██████████| 1400/1400 [00:38<00:00, 35.97it/s]\n",
      "100%|██████████| 1400/1400 [00:44<00:00, 31.51it/s]\n",
      "100%|██████████| 1400/1400 [00:36<00:00, 38.14it/s]\n",
      "100%|██████████| 1400/1400 [00:34<00:00, 40.54it/s]\n"
     ]
    },
    {
     "data": {
      "image/png": "[encoded data removed]",
      "text/plain": [
       "<Figure size 640x480 with 1 Axes>"
      ]
     },
     "metadata": {},
     "output_type": "display_data"
    }
   ],
   "source": [
    "for pred, name in zip(preds, models):\n",
    "    fpr, tpr = roc([[int(i[0]) for i in j] for j in pred.values()], index.relevent_docs, 1400)\n",
    "    np.save('Eval//ROC_'+name, np.array([fpr, tpr]))\n",
    "    plt.plot(fpr, tpr, label=name)\n",
    "plt.legend()\n",
    "plt.show()"
   ]
  },
  {
   "attachments": {},
   "cell_type": "markdown",
   "metadata": {},
   "source": [
    "## Summary"
   ]
  },
  {
   "cell_type": "code",
   "execution_count": 35,
   "metadata": {},
   "outputs": [],
   "source": [
    "eval = []\n",
    "names = ['Scalar', 'Cosine', 'Jaccard']\n",
    "for pred, name in zip(preds, names):\n",
    "    p5 = round(precision(5, pred, index.relevent_docs), 3)\n",
    "    p10 = round(precision(10, pred, index.relevent_docs), 3)\n",
    "    r5 = round(recall(5, pred, index.relevent_docs), 3)\n",
    "    r10 = round(recall(10, pred, index.relevent_docs), 3)\n",
    "    m5 = round(mrr(5, pred, index.relevent_docs), 3)\n",
    "    m10 = round(mrr(10, pred, index.relevent_docs), 3)\n",
    "    eval.append([name, p5, r5, round((2*p5*r5)/(p5+r5), 3), m5, p10, r10, round((2*p10*r10)/(p10+r10), 3), m10])\n",
    "\n",
    "eval = pd.DataFrame(eval)\n",
    "eval.columns = ['Model', 'P5', 'R5', 'F5', 'MRR5', 'P10', 'R10', 'F10', 'MRR10']\n",
    "eval.to_csv('Eval//Eval_Vector.csv') "
   ]
  },
  {
   "cell_type": "code",
   "execution_count": 36,
   "metadata": {},
   "outputs": [
    {
     "data": {
      "text/html": [
       "<div>\n",
       "<style scoped>\n",
       "    .dataframe tbody tr th:only-of-type {\n",
       "        vertical-align: middle;\n",
       "    }\n",
       "\n",
       "    .dataframe tbody tr th {\n",
       "        vertical-align: top;\n",
       "    }\n",
       "\n",
       "    .dataframe thead th {\n",
       "        text-align: right;\n",
       "    }\n",
       "</style>\n",
       "<table border=\"1\" class=\"dataframe\">\n",
       "  <thead>\n",
       "    <tr style=\"text-align: right;\">\n",
       "      <th></th>\n",
       "      <th>Model</th>\n",
       "      <th>P5</th>\n",
       "      <th>R5</th>\n",
       "      <th>F5</th>\n",
       "      <th>MRR5</th>\n",
       "      <th>P10</th>\n",
       "      <th>R10</th>\n",
       "      <th>F10</th>\n",
       "      <th>MRR10</th>\n",
       "    </tr>\n",
       "  </thead>\n",
       "  <tbody>\n",
       "    <tr>\n",
       "      <th>0</th>\n",
       "      <td>Scalar</td>\n",
       "      <td>0.050</td>\n",
       "      <td>0.007</td>\n",
       "      <td>0.012</td>\n",
       "      <td>0.080</td>\n",
       "      <td>0.054</td>\n",
       "      <td>0.016</td>\n",
       "      <td>0.025</td>\n",
       "      <td>0.101</td>\n",
       "    </tr>\n",
       "    <tr>\n",
       "      <th>1</th>\n",
       "      <td>Cosine</td>\n",
       "      <td>0.063</td>\n",
       "      <td>0.012</td>\n",
       "      <td>0.020</td>\n",
       "      <td>0.128</td>\n",
       "      <td>0.061</td>\n",
       "      <td>0.024</td>\n",
       "      <td>0.034</td>\n",
       "      <td>0.152</td>\n",
       "    </tr>\n",
       "    <tr>\n",
       "      <th>2</th>\n",
       "      <td>Jaccard</td>\n",
       "      <td>0.082</td>\n",
       "      <td>0.015</td>\n",
       "      <td>0.025</td>\n",
       "      <td>0.148</td>\n",
       "      <td>0.068</td>\n",
       "      <td>0.023</td>\n",
       "      <td>0.034</td>\n",
       "      <td>0.170</td>\n",
       "    </tr>\n",
       "  </tbody>\n",
       "</table>\n",
       "</div>"
      ],
      "text/plain": [
       "     Model     P5     R5     F5   MRR5    P10    R10    F10  MRR10\n",
       "0   Scalar  0.050  0.007  0.012  0.080  0.054  0.016  0.025  0.101\n",
       "1   Cosine  0.063  0.012  0.020  0.128  0.061  0.024  0.034  0.152\n",
       "2  Jaccard  0.082  0.015  0.025  0.148  0.068  0.023  0.034  0.170"
      ]
     },
     "execution_count": 36,
     "metadata": {},
     "output_type": "execute_result"
    }
   ],
   "source": [
    "eval = pd.read_csv('Eval//Eval_Vector.csv')\n",
    "eval.drop([eval.columns[0]], axis=1) "
   ]
  },
  {
   "cell_type": "code",
   "execution_count": 37,
   "metadata": {},
   "outputs": [],
   "source": [
    "eval = []\n",
    "names = ['BM25']\n",
    "for pred, name in zip(preds, names):\n",
    "    p = round(precision(25, pred, index.relevent_docs), 4)\n",
    "    r = round(recall(25, pred, index.relevent_docs), 4)\n",
    "    m = round(mrr(25, pred, index.relevent_docs), 4)\n",
    "    eval.append([name, p, r, round((2*p*r)/(p+r), 4), m])\n",
    "\n",
    "eval = pd.DataFrame(eval)\n",
    "eval.columns = ['Model', 'Precision', 'Recall', 'F-score', 'MRR']\n",
    "eval.to_csv('Eval//Eval_Prob.csv') "
   ]
  },
  {
   "cell_type": "code",
   "execution_count": 38,
   "metadata": {},
   "outputs": [
    {
     "data": {
      "text/html": [
       "<div>\n",
       "<style scoped>\n",
       "    .dataframe tbody tr th:only-of-type {\n",
       "        vertical-align: middle;\n",
       "    }\n",
       "\n",
       "    .dataframe tbody tr th {\n",
       "        vertical-align: top;\n",
       "    }\n",
       "\n",
       "    .dataframe thead th {\n",
       "        text-align: right;\n",
       "    }\n",
       "</style>\n",
       "<table border=\"1\" class=\"dataframe\">\n",
       "  <thead>\n",
       "    <tr style=\"text-align: right;\">\n",
       "      <th></th>\n",
       "      <th>Model</th>\n",
       "      <th>Precision</th>\n",
       "      <th>Recall</th>\n",
       "      <th>F-score</th>\n",
       "      <th>MRR</th>\n",
       "    </tr>\n",
       "  </thead>\n",
       "  <tbody>\n",
       "    <tr>\n",
       "      <th>0</th>\n",
       "      <td>BM25</td>\n",
       "      <td>0.0532</td>\n",
       "      <td>0.0372</td>\n",
       "      <td>0.0438</td>\n",
       "      <td>0.12</td>\n",
       "    </tr>\n",
       "  </tbody>\n",
       "</table>\n",
       "</div>"
      ],
      "text/plain": [
       "  Model  Precision  Recall  F-score   MRR\n",
       "0  BM25     0.0532  0.0372   0.0438  0.12"
      ]
     },
     "execution_count": 38,
     "metadata": {},
     "output_type": "execute_result"
    }
   ],
   "source": [
    "eval = pd.read_csv('Eval//Eval_Prob.csv')\n",
    "eval.drop([eval.columns[0]], axis=1) "
   ]
  }
 ],
 "metadata": {
  "kernelspec": {
   "display_name": "Python 3",
   "language": "python",
   "name": "python3"
  },
  "language_info": {
   "codemirror_mode": {
    "name": "ipython",
    "version": 3
   },
   "file_extension": ".py",
   "mimetype": "text/x-python",
   "name": "python",
   "nbconvert_exporter": "python",
   "pygments_lexer": "ipython3",
   "version": "3.11.1"
  },
  "orig_nbformat": 4,
  "vscode": {
   "interpreter": {
    "hash": "b91f41160b83ffc59c7e17fa6fd02d637d5dcf1d5e59aa2db87d82178661b954"
   }
  }
 },
 "nbformat": 4,
 "nbformat_minor": 2
}
